{
  "cells": [
    {
      "cell_type": "markdown",
      "metadata": {
        "id": "view-in-github",
        "colab_type": "text"
      },
      "source": [
        "<a href=\"https://colab.research.google.com/github/ZacharyZhang-2022/deep_learning/blob/main/word2vectors_Debiasing_wordvectors.ipynb\" target=\"_parent\"><img src=\"https://colab.research.google.com/assets/colab-badge.svg\" alt=\"Open In Colab\"/></a>"
      ]
    },
    {
      "cell_type": "markdown",
      "metadata": {
        "id": "YTNn4zzAJWhA"
      },
      "source": [
        "# Operations on Word Vectors\n",
        "\n",
        "\n",
        "\n",
        "Because word embeddings are very computationally expensive to train, most ML practitioners will load a pre-trained set of embeddings. In this notebook you'll try your hand at loading, measuring similarity between, and modifying pre-trained embeddings. "
      ]
    },
    {
      "cell_type": "markdown",
      "metadata": {
        "id": "mQ-puMbf5Zvi"
      },
      "source": [
        "## Table of Contents\n",
        "\n",
        "- [Packages](#0)\n",
        "- [1 - Load the Word Vectors](#1)\n",
        "- [2 - Embedding Vectors Versus One-Hot Vectors](#2)\n",
        "- [3 - Cosine Similarity](#3)\n",
        "    - [Exercise 1 - cosine_similarity](#ex-1)\n",
        "- [4 - Word Analogy Task](#4)\n",
        "    - [Exercise 2 - complete_analogy](#ex-2)\n",
        "- [5 - Debiasing Word Vectors (OPTIONAL/UNGRADED)](#5)\n",
        "    - [5.1 - Neutralize Bias for Non-Gender Specific Words](#5-1)\n",
        "        - [Exercise 3 - neutralize](#ex-3)\n",
        "    - [5.2 - Equalization Algorithm for Gender-Specific Words](#5-2)\n",
        "        - [Exercise 4 - equalize](#ex-4)"
      ]
    },
    {
      "cell_type": "markdown",
      "metadata": {
        "id": "ZNlGgfN1JWhL"
      },
      "source": [
        "<a name='0'></a>\n",
        "## Packages\n",
        "\n",
        "Load the packages"
      ]
    },
    {
      "cell_type": "code",
      "execution_count": 3,
      "metadata": {
        "id": "cWEywjgpJWhM",
        "outputId": "98c2b4e3-f4e2-488a-f577-144cc3aaacfb",
        "colab": {
          "base_uri": "https://localhost:8080/"
        }
      },
      "outputs": [
        {
          "output_type": "stream",
          "name": "stdout",
          "text": [
            "--2022-07-17 13:49:41--  http://nlp.stanford.edu/data/glove.6B.zip\n",
            "Resolving nlp.stanford.edu (nlp.stanford.edu)... 171.64.67.140\n",
            "Connecting to nlp.stanford.edu (nlp.stanford.edu)|171.64.67.140|:80... connected.\n",
            "HTTP request sent, awaiting response... 302 Found\n",
            "Location: https://nlp.stanford.edu/data/glove.6B.zip [following]\n",
            "--2022-07-17 13:49:41--  https://nlp.stanford.edu/data/glove.6B.zip\n",
            "Connecting to nlp.stanford.edu (nlp.stanford.edu)|171.64.67.140|:443... connected.\n",
            "HTTP request sent, awaiting response... 301 Moved Permanently\n",
            "Location: https://downloads.cs.stanford.edu/nlp/data/glove.6B.zip [following]\n",
            "--2022-07-17 13:49:42--  https://downloads.cs.stanford.edu/nlp/data/glove.6B.zip\n",
            "Resolving downloads.cs.stanford.edu (downloads.cs.stanford.edu)... 171.64.64.22\n",
            "Connecting to downloads.cs.stanford.edu (downloads.cs.stanford.edu)|171.64.64.22|:443... connected.\n",
            "HTTP request sent, awaiting response... 200 OK\n",
            "Length: 862182613 (822M) [application/zip]\n",
            "Saving to: ‘glove.6B.zip’\n",
            "\n",
            "glove.6B.zip        100%[===================>] 822.24M  5.02MB/s    in 2m 38s  \n",
            "\n",
            "2022-07-17 13:52:21 (5.19 MB/s) - ‘glove.6B.zip’ saved [862182613/862182613]\n",
            "\n",
            "Archive:  glove.6B.zip\n",
            "  inflating: glove.6B.50d.txt        \n",
            "  inflating: glove.6B.100d.txt       \n",
            "  inflating: glove.6B.200d.txt       \n",
            "  inflating: glove.6B.300d.txt       \n"
          ]
        }
      ],
      "source": [
        "import numpy as np\n",
        "!wget http://nlp.stanford.edu/data/glove.6B.zip\n",
        "!unzip glove*.zip"
      ]
    },
    {
      "cell_type": "markdown",
      "metadata": {
        "id": "D-CfRQ86JWhN"
      },
      "source": [
        "<a name='1'></a>\n",
        "## 1 - Load the Word Vectors\n",
        "\n",
        "For this assignment, you'll use 50-dimensional GloVe vectors to represent words. \n",
        "Run the following cell to load the `word_to_vec_map`. "
      ]
    },
    {
      "cell_type": "code",
      "source": [
        "import gensim\n",
        "from gensim.scripts.glove2word2vec import glove2word2vec"
      ],
      "metadata": {
        "id": "YzTsxCClbhOX"
      },
      "execution_count": 6,
      "outputs": []
    },
    {
      "cell_type": "code",
      "source": [
        "GloVe_DIR = '/content/glove.6B.50d.txt'\n",
        "glove_input_file = GloVe_DIR\n",
        "word2vec_output_file = 'glove.50d.txt.word2vec'\n",
        "glove2word2vec(glove_input_file, word2vec_output_file)\n",
        "embeddings = gensim.models.KeyedVectors.load_word2vec_format(word2vec_output_file, binary=False)"
      ],
      "metadata": {
        "id": "kb_TzvUNbnOm"
      },
      "execution_count": 7,
      "outputs": []
    },
    {
      "cell_type": "markdown",
      "metadata": {
        "id": "cF9bim0eJWhO"
      },
      "source": [
        "You've loaded:\n",
        "- `words`: set of words in the vocabulary.\n",
        "- `word_to_vec_map`: dictionary mapping words to their GloVe vector representation.\n",
        "\n",
        "<a name='2'></a>\n",
        "## 2 - Embedding Vectors Versus One-Hot Vectors\n",
        "Recall from the lesson videos that one-hot vectors don't do a good job of capturing the level of similarity between words. This is because every one-hot vector has the same Euclidean distance from any other one-hot vector.\n",
        "\n",
        "Embedding vectors, such as GloVe vectors, provide much more useful information about the meaning of individual words.  \n",
        "Now, see how you can use GloVe vectors to measure the similarity between two words! "
      ]
    },
    {
      "cell_type": "markdown",
      "metadata": {
        "id": "xZBg2QwSJWhO"
      },
      "source": [
        "<a name='3'></a>\n",
        "## 3 - Cosine Similarity\n",
        "\n",
        "To measure the similarity between two words, you need a way to measure the degree of similarity between two embedding vectors for the two words. Given two vectors $u$ and $v$, cosine similarity is defined as follows: \n",
        "\n",
        "$$\\text{CosineSimilarity(u, v)} = \\frac {u \\cdot v} {||u||_2 ||v||_2} = cos(\\theta) \\tag{1}$$\n",
        "\n",
        "* $u \\cdot v$ is the dot product (or inner product) of two vectors\n",
        "* $||u||_2$ is the norm (or length) of the vector $u$\n",
        "* $\\theta$ is the angle between $u$ and $v$. \n",
        "* The cosine similarity depends on the angle between $u$ and $v$. \n",
        "    * If $u$ and $v$ are very similar, their cosine similarity will be close to 1.\n",
        "    * If they are dissimilar, the cosine similarity will take a smaller value. \n",
        "\n",
        "\n",
        "<caption><center><font color='purple'><b>Figure 1</b>: The cosine of the angle between two vectors is a measure of their similarity.</font></center></caption>\n",
        "\n",
        "<a name='ex-1'></a>\n",
        "### Exercise 1 - cosine_similarity\n",
        "\n",
        "Implement the function `cosine_similarity()` to evaluate the similarity between word vectors.\n",
        "\n",
        "**Reminder**: The norm of $u$ is defined as $ ||u||_2 = \\sqrt{\\sum_{i=1}^{n} u_i^2}$\n",
        "\n",
        "#### Additional Hints\n",
        "* You may find [np.dot](https://numpy.org/doc/stable/reference/generated/numpy.dot.html), [np.sum](https://numpy.org/doc/stable/reference/generated/numpy.sum.html), or [np.sqrt](https://numpy.org/doc/stable/reference/generated/numpy.sqrt.html) useful depending upon the implementation that you choose."
      ]
    },
    {
      "cell_type": "code",
      "execution_count": 20,
      "metadata": {
        "id": "mNjuTQ5JJWhP"
      },
      "outputs": [],
      "source": [
        "def cosine_similarity(u, v):\n",
        "    \"\"\"\n",
        "    Cosine similarity reflects the degree of similarity between u and v\n",
        "        \n",
        "    Arguments:\n",
        "        u -- a word vector of shape (n,)          \n",
        "        v -- a word vector of shape (n,)\n",
        "\n",
        "    Returns:\n",
        "        cosine_similarity -- the cosine similarity between u and v defined by the formula above.\n",
        "    \"\"\"\n",
        "    \n",
        "    # Special case. Consider the case u = [0, 0], v=[0, 0]\n",
        "    if np.all(u == v):\n",
        "        return 1\n",
        "    \n",
        "    ### START CODE HERE ###\n",
        "    # Compute the dot product between u and v (≈1 line)\n",
        "    dot = np.dot(u,v) \n",
        "    # Compute the L2 norm of u (≈1 line)\n",
        "    # norm_u = np.sqrt(np.sum(u*u))\n",
        "    norm_u = np.linalg.norm(u)\n",
        "    \n",
        "    # Compute the L2 norm of v (≈1 line)\n",
        "    norm_v = np.linalg.norm(v)\n",
        "    \n",
        "    # Avoid division by 0\n",
        "    if np.isclose(norm_u * norm_v, 0, atol=1e-32):\n",
        "        return 0\n",
        "    \n",
        "    # Compute the cosine similarity defined by formula (1) (≈1 line)\n",
        "    cosine_similarity = dot / (norm_u*norm_v)\n",
        "    ### END CODE HERE ###\n",
        "    \n",
        "    return cosine_similarity"
      ]
    },
    {
      "cell_type": "code",
      "execution_count": 22,
      "metadata": {
        "colab": {
          "base_uri": "https://localhost:8080/"
        },
        "id": "nqH8_-3BJWhP",
        "outputId": "47d10d07-62d7-4ccc-b32f-5316eb9eabc0"
      },
      "outputs": [
        {
          "output_type": "stream",
          "name": "stdout",
          "text": [
            "cosine_similarity(father, mother) =  0.8909039\n",
            "cosine_similarity(ball, crocodile) =  0.27439246\n",
            "cosine_similarity(france - paris, rome - italy) =  -0.67514807\n"
          ]
        }
      ],
      "source": [
        "# START SKIP FOR GRADING\n",
        "father = embeddings[\"father\"]\n",
        "mother = embeddings[\"mother\"]\n",
        "ball = embeddings[\"ball\"]\n",
        "crocodile = embeddings[\"crocodile\"]\n",
        "france = embeddings[\"france\"]\n",
        "italy = embeddings[\"italy\"]\n",
        "paris = embeddings[\"paris\"]\n",
        "rome = embeddings[\"rome\"]\n",
        "\n",
        "print(\"cosine_similarity(father, mother) = \", cosine_similarity(father, mother))\n",
        "print(\"cosine_similarity(ball, crocodile) = \",cosine_similarity(ball, crocodile))\n",
        "print(\"cosine_similarity(france - paris, rome - italy) = \",cosine_similarity(france - paris, rome - italy))\n",
        "# END SKIP FOR GRADING"
      ]
    },
    {
      "cell_type": "markdown",
      "metadata": {
        "id": "63Pjp_QSJWhQ"
      },
      "source": [
        "<a name='4'></a>\n",
        "## 4 - Word Analogy Task\n",
        "\n",
        "* In the word analogy task, complete this sentence:  \n",
        "    <font color='brown'>\"*a* is to *b* as *c* is to **____**\"</font>. \n",
        "\n",
        "* An example is:  \n",
        "    <font color='brown'> '*man* is to *woman* as *king* is to *queen*' </font>. \n",
        "\n",
        "* You're trying to find a word *d*, such that the associated word vectors $e_a, e_b, e_c, e_d$ are related in the following manner:   \n",
        "    $e_b - e_a \\approx e_d - e_c$\n",
        "* Measure the similarity between $e_b - e_a$ and $e_d - e_c$ using cosine similarity. \n",
        "\n",
        "<a name='ex-2'></a>\n",
        "### Exercise 2 - complete_analogy\n",
        "\n",
        "Complete the code below to perform word analogies!"
      ]
    },
    {
      "cell_type": "code",
      "execution_count": 31,
      "metadata": {
        "id": "kGBV3yoQJWhS"
      },
      "outputs": [],
      "source": [
        "def complete_analogy(word_a, word_b, word_c, word_to_vec_map):\n",
        "    \"\"\"\n",
        "    Performs the word analogy task as explained above: a is to b as c is to ____. \n",
        "    \n",
        "    Arguments:\n",
        "    word_a -- a word, string\n",
        "    word_b -- a word, string\n",
        "    word_c -- a word, string\n",
        "    word_to_vec_map -- dictionary that maps words to their corresponding vectors. \n",
        "    \n",
        "    Returns:\n",
        "    best_word --  the word such that v_b - v_a is close to v_best_word - v_c, as measured by cosine similarity\n",
        "    \"\"\"\n",
        "    \n",
        "    # convert words to lowercase\n",
        "    word_a, word_b, word_c = word_a.lower(), word_b.lower(), word_c.lower()\n",
        "    \n",
        "    ### START CODE HERE ###\n",
        "    # Get the word embeddings e_a, e_b and e_c (≈1-3 lines)\n",
        "    e_a, e_b, e_c = word_to_vec_map[word_a],word_to_vec_map[word_b],word_to_vec_map[word_c]\n",
        "    ### END CODE HERE ###\n",
        "    \n",
        "    words = word_to_vec_map.vocab\n",
        "    max_cosine_sim = -100              # Initialize max_cosine_sim to a large negative number\n",
        "    best_word = None                   # Initialize best_word with None, it will help keep track of the word to output\n",
        "    \n",
        "    # loop over the whole word vector set\n",
        "    for w in words:   \n",
        "        # to avoid best_word being one the input words, skip the input word_c\n",
        "        # skip word_c from query\n",
        "        if w == word_c:\n",
        "            continue\n",
        "        \n",
        "        ### START CODE HERE ###\n",
        "        # Compute cosine similarity between the vector (e_b - e_a) and the vector ((w's vector representation) - e_c)  (≈1 line)\n",
        "        cosine_sim = cosine_similarity((e_b - e_a), (word_to_vec_map[w] - e_c))\n",
        "        \n",
        "        # If the cosine_sim is more than the max_cosine_sim seen so far,\n",
        "            # then: set the new max_cosine_sim to the current cosine_sim and the best_word to the current word (≈3 lines)\n",
        "        if cosine_sim > max_cosine_sim:\n",
        "            max_cosine_sim = cosine_sim\n",
        "            best_word = w\n",
        "        ### END CODE HERE ###\n",
        "        \n",
        "    return best_word"
      ]
    },
    {
      "cell_type": "markdown",
      "metadata": {
        "id": "vnJJ_2sQJWhT"
      },
      "source": [
        "Run the cell below to test your code. Patience, young grasshopper...this may take 1-2 minutes."
      ]
    },
    {
      "cell_type": "code",
      "execution_count": 33,
      "metadata": {
        "colab": {
          "base_uri": "https://localhost:8080/"
        },
        "id": "enugl3oP5Zvq",
        "outputId": "0010654f-6ac7-4f58-b20e-44f8fcdb002d"
      },
      "outputs": [
        {
          "output_type": "stream",
          "name": "stdout",
          "text": [
            "italy -> italian :: spain -> spanish\n",
            "india -> delhi :: japan -> tokyo\n",
            "man -> woman :: boy -> girl\n",
            "small -> smaller :: large -> smaller\n"
          ]
        }
      ],
      "source": [
        "# START SKIP FOR GRADING\n",
        "triads_to_try = [('italy', 'italian', 'spain'), ('india', 'delhi', 'japan'), ('man', 'woman', 'boy'), ('small', 'smaller', 'large')]\n",
        "for triad in triads_to_try:\n",
        "    print ('{} -> {} :: {} -> {}'.format( *triad, complete_analogy(*triad,embeddings)))\n",
        "\n",
        "# END SKIP FOR GRADING"
      ]
    },
    {
      "cell_type": "markdown",
      "metadata": {
        "id": "HMRD25MuJWhW"
      },
      "source": [
        "<a name='5'></a>\n",
        "## 5 - Debiasing Word Vectors"
      ]
    },
    {
      "cell_type": "markdown",
      "metadata": {
        "id": "9Q1w3ZpEJWhW"
      },
      "source": [
        "First, see how the GloVe word embeddings relate to gender. You'll begin by computing a vector $g = e_{woman}-e_{man}$, where $e_{woman}$ represents the word vector corresponding to the word *woman*, and $e_{man}$ corresponds to the word vector corresponding to the word *man*. The resulting vector $g$ roughly encodes the concept of \"gender\". \n",
        "\n",
        "You might get a more accurate representation if you compute $g_1 = e_{mother}-e_{father}$, $g_2 = e_{girl}-e_{boy}$, etc. and average over them, but just using $e_{woman}-e_{man}$ will give good enough results for now.\n"
      ]
    },
    {
      "cell_type": "code",
      "execution_count": 34,
      "metadata": {
        "id": "_qpU-C3KJWhW",
        "colab": {
          "base_uri": "https://localhost:8080/"
        },
        "outputId": "678a0f84-5133-4391-841d-5f9b9aee7ae2"
      },
      "outputs": [
        {
          "output_type": "stream",
          "name": "stdout",
          "text": [
            "[-0.087144    0.2182     -0.40985996 -0.03922001 -0.10320008  0.94165003\n",
            " -0.06042001  0.32988     0.46144    -0.35962     0.31102    -0.86824\n",
            "  0.96006     0.01073003  0.24337     0.08193001 -1.02722    -0.21122\n",
            "  0.695044   -0.00222     0.29106003  0.50530005 -0.099454    0.40445\n",
            "  0.30181003  0.1355002  -0.06060004 -0.07131001 -0.19245    -0.06115001\n",
            " -0.3204      0.07165    -0.13337001 -0.25068715 -0.14292999 -0.224957\n",
            " -0.14899999  0.048882    0.12191002 -0.27362    -0.16547601 -0.20426002\n",
            "  0.54376    -0.27142498 -0.10244995 -0.32108003  0.2516     -0.33454996\n",
            " -0.04371002  0.01258   ]\n"
          ]
        }
      ],
      "source": [
        "g = embeddings['woman'] - embeddings['man']\n",
        "print(g)"
      ]
    },
    {
      "cell_type": "markdown",
      "metadata": {
        "id": "ORIvi0s1JWhX"
      },
      "source": [
        "Now, consider the cosine similarity of different words with $g$. What does a positive value of similarity mean, versus a negative cosine similarity? "
      ]
    },
    {
      "cell_type": "code",
      "execution_count": 48,
      "metadata": {
        "id": "TgqV6pDxJWhX",
        "scrolled": false,
        "colab": {
          "base_uri": "https://localhost:8080/"
        },
        "outputId": "e0dfe64e-1360-4309-c2c2-4f9553f46e97"
      },
      "outputs": [
        {
          "output_type": "stream",
          "name": "stdout",
          "text": [
            "List of names and their similarities with constructed vector:\n",
            "john -0.23163357\n",
            "marie 0.3155979\n",
            "sophie 0.3186879\n",
            "ronaldo -0.31244797\n",
            "priya 0.1763204\n",
            "rahul -0.16915469\n",
            "danielle 0.243933\n",
            "reza -0.0793043\n",
            "katy 0.28310683\n",
            "yasmin 0.23313859\n",
            "tom -0.15678424\n",
            "sophia 0.32040754\n"
          ]
        }
      ],
      "source": [
        "print ('List of names and their similarities with constructed vector:')\n",
        "\n",
        "# girls and boys name\n",
        "name_list = ['john', 'marie', 'sophie', 'ronaldo', 'priya', 'rahul', 'danielle', 'reza', 'katy', 'yasmin','tom','sophia']\n",
        "\n",
        "for w in name_list:\n",
        "    print (w, cosine_similarity(embeddings[w], g))"
      ]
    },
    {
      "cell_type": "markdown",
      "metadata": {
        "id": "YLELp0LJJWhY"
      },
      "source": [
        "As you can see, female first names tend to have a positive cosine similarity with our constructed vector $g$, while male first names tend to have a negative cosine similarity. This is not surprising, and the result seems acceptable. \n",
        "\n",
        "Now try with some other words:"
      ]
    },
    {
      "cell_type": "code",
      "execution_count": 36,
      "metadata": {
        "id": "wgadfCaGJWhY",
        "colab": {
          "base_uri": "https://localhost:8080/"
        },
        "outputId": "456f0eda-49ed-43fa-a80f-7d93704c8543"
      },
      "outputs": [
        {
          "output_type": "stream",
          "name": "stdout",
          "text": [
            "Other words and their similarities:\n",
            "lipstick 0.27691913\n",
            "guns -0.18884856\n",
            "science -0.06082906\n",
            "arts 0.0081893075\n",
            "literature 0.06472502\n",
            "warrior -0.20920166\n",
            "doctor 0.11895285\n",
            "tree -0.07089401\n",
            "receptionist 0.33077937\n",
            "technology -0.13193731\n",
            "fashion 0.035638954\n",
            "teacher 0.1792092\n",
            "engineer -0.08039281\n",
            "pilot 0.0010764304\n",
            "computer -0.10330359\n",
            "singer 0.18500516\n"
          ]
        }
      ],
      "source": [
        "print('Other words and their similarities:')\n",
        "word_list = ['lipstick', 'guns', 'science', 'arts', 'literature', 'warrior','doctor', 'tree', 'receptionist', \n",
        "             'technology',  'fashion', 'teacher', 'engineer', 'pilot', 'computer', 'singer']\n",
        "for w in word_list:\n",
        "    print (w, cosine_similarity(embeddings[w], g))"
      ]
    },
    {
      "cell_type": "markdown",
      "metadata": {
        "id": "YUzfNtq4JWhY"
      },
      "source": [
        "\n",
        "\n",
        "<a name='5-1'></a>\n",
        "### 5.1 - Neutralize Bias for Non-Gender Specific Words \n",
        "\n",
        "The figure below should help you visualize what neutralizing does. If you're using a 50-dimensional word embedding, the 50 dimensional space can be split into two parts: The bias-direction $g$, and the remaining 49 dimensions, which is called $g_{\\perp}$ here. In linear algebra, we say that the 49-dimensional $g_{\\perp}$ is perpendicular (or \"orthogonal\") to $g$, meaning it is at 90 degrees to $g$. The neutralization step takes a vector such as $e_{receptionist}$ and zeros out the component in the direction of $g$, giving us $e_{receptionist}^{debiased}$. \n",
        "\n",
        "Even though $g_{\\perp}$ is 49-dimensional, given the limitations of what you can draw on a 2D screen, it's illustrated using a 1-dimensional axis below. \n",
        "\n",
        "<a name='ex-3'></a>\n",
        "### Exercise 3 - neutralize\n",
        "\n",
        "Implement `neutralize()` to remove the bias of words such as \"receptionist\" or \"scientist.\"\n",
        "\n",
        "Given an input embedding $e$, you can use the following formulas to compute $e^{debiased}$: \n",
        "\n",
        "$$e^{bias\\_component} = \\frac{e \\cdot g}{||g||_2^2} * g\\tag{2}$$\n",
        "$$e^{debiased} = e - e^{bias\\_component}\\tag{3}$$\n",
        "\n",
        "If you are an expert in linear algebra, you may recognize $e^{bias\\_component}$ as the projection of $e$ onto the direction $g$. If you're not an expert in linear algebra, don't worry about this. ;) \n",
        "\n",
        "<!-- \n",
        "**Reminder**: a vector $u$ can be split into two parts: its projection over a vector-axis $v_B$ and its projection over the axis orthogonal to $v$:\n",
        "$$u = u_B + u_{\\perp}$$\n",
        "where : $u_B = $ and $ u_{\\perp} = u - u_B $\n",
        "!--> "
      ]
    },
    {
      "cell_type": "code",
      "execution_count": 37,
      "metadata": {
        "id": "79Pk0QDhJWhZ"
      },
      "outputs": [],
      "source": [
        "def neutralize(word, g, word_to_vec_map):\n",
        "    \"\"\"\n",
        "    Removes the bias of \"word\" by projecting it on the space orthogonal to the bias axis. \n",
        "    This function ensures that gender neutral words are zero in the gender subspace.\n",
        "    \n",
        "    Arguments:\n",
        "        word -- string indicating the word to debias\n",
        "        g -- numpy-array of shape (50,), corresponding to the bias axis (such as gender)\n",
        "        word_to_vec_map -- dictionary mapping words to their corresponding vectors.\n",
        "    \n",
        "    Returns:\n",
        "        e_debiased -- neutralized word vector representation of the input \"word\"\n",
        "    \"\"\"\n",
        "    \n",
        "    ### START CODE HERE ###\n",
        "    # Select word vector representation of \"word\". Use word_to_vec_map. (≈ 1 line)\n",
        "    e = word_to_vec_map[word]\n",
        "    \n",
        "    # Compute e_biascomponent using the formula given above. (≈ 1 line)\n",
        "    e_biascomponent = np.dot(e,g)*g/np.linalg.norm(g)#np.sum(g*g)\n",
        " \n",
        "    # Neutralize e by subtracting e_biascomponent from it \n",
        "    # e_debiased should be equal to its orthogonal projection. (≈ 1 line)\n",
        "    e_debiased = e-e_biascomponent\n",
        "    ### END CODE HERE ###\n",
        "    \n",
        "    return e_debiased"
      ]
    },
    {
      "cell_type": "code",
      "execution_count": 49,
      "metadata": {
        "id": "6PgkxwxXJWhZ",
        "colab": {
          "base_uri": "https://localhost:8080/"
        },
        "outputId": "25fb438d-906b-4935-f23b-254ea7f38121"
      },
      "outputs": [
        {
          "output_type": "stream",
          "name": "stdout",
          "text": [
            "cosine similarity between receptionist and g, before neutralizing:  0.33077937\n",
            "cosine similarity between receptionist and g, after neutralizing:  -0.48975515\n"
          ]
        }
      ],
      "source": [
        "e = \"receptionist\"\n",
        "print(\"cosine similarity between \" + e + \" and g, before neutralizing: \", cosine_similarity(embeddings[\"receptionist\"], g))\n",
        "\n",
        "e_debiased = neutralize(\"receptionist\", g, embeddings)\n",
        "print(\"cosine similarity between \" + e + \" and g, after neutralizing: \", cosine_similarity(e_debiased, g))"
      ]
    },
    {
      "cell_type": "markdown",
      "metadata": {
        "id": "ciATgxwLJWha"
      },
      "source": [
        "<a name='5-2'></a>\n",
        "### 5.2 - Equalization Algorithm for Gender-Specific Words\n",
        "\n",
        "Next, let's see how debiasing can also be applied to word pairs such as \"actress\" and \"actor.\" Equalization is applied to pairs of words that you might want to have differ only through the gender property. As a concrete example, suppose that \"actress\" is closer to \"babysit\" than \"actor.\" By applying neutralization to \"babysit,\" you can reduce the gender stereotype associated with babysitting. But this still does not guarantee that \"actor\" and \"actress\" are equidistant from \"babysit.\" The equalization algorithm takes care of this. \n",
        "\n",
        "The key idea behind equalization is to make sure that a particular pair of words are equidistant from the 49-dimensional $g_\\perp$. The equalization step also ensures that the two equalized steps are now the same distance from $e_{receptionist}^{debiased}$, or from any other work that has been neutralized. Visually, this is how equalization works: \n",
        "\n",
        "\n",
        "\n",
        "\n",
        "The derivation of the linear algebra to do this is a bit more complex. (See Bolukbasi et al., 2016 in the References for details.) Here are the key equations: \n",
        "\n",
        "\n",
        "$$ \\mu = \\frac{e_{w1} + e_{w2}}{2}\\tag{4}$$ \n",
        "\n",
        "$$ \\mu_{B} = \\frac {\\mu \\cdot \\text{bias_axis}}{||\\text{bias_axis}||_2^2} *\\text{bias_axis}\n",
        "\\tag{5}$$ \n",
        "\n",
        "$$\\mu_{\\perp} = \\mu - \\mu_{B} \\tag{6}$$\n",
        "\n",
        "$$ e_{w1B} = \\frac {e_{w1} \\cdot \\text{bias_axis}}{||\\text{bias_axis}||_2^2} *\\text{bias_axis}\n",
        "\\tag{7}$$ \n",
        "$$ e_{w2B} = \\frac {e_{w2} \\cdot \\text{bias_axis}}{||\\text{bias_axis}||_2^2} *\\text{bias_axis}\n",
        "\\tag{8}$$\n",
        "\n",
        "\n",
        "$$e_{w1B}^{corrected} = \\sqrt{ |{1 - ||\\mu_{\\perp} ||^2_2} |} * \\frac{e_{\\text{w1B}} - \\mu_B} {||(e_{w1} - \\mu_{\\perp}) - \\mu_B||_2} \\tag{9}$$\n",
        "\n",
        "\n",
        "$$e_{w2B}^{corrected} = \\sqrt{ |{1 - ||\\mu_{\\perp} ||^2_2} |} * \\frac{e_{\\text{w2B}} - \\mu_B} {||(e_{w2} - \\mu_{\\perp}) - \\mu_B||_2} \\tag{10}$$\n",
        "\n",
        "$$e_1 = e_{w1B}^{corrected} + \\mu_{\\perp} \\tag{11}$$\n",
        "$$e_2 = e_{w2B}^{corrected} + \\mu_{\\perp} \\tag{12}$$\n",
        "\n",
        "\n",
        "<a name='ex-4'></a>\n",
        "### Exercise 4 - equalize\n",
        "\n",
        "Implement the `equalize()` function below. \n",
        "\n",
        "Use the equations above to get the final equalized version of the pair of words. Good luck!\n",
        "\n",
        "**Hint**\n",
        "- Use [np.linalg.norm](https://numpy.org/doc/stable/reference/generated/numpy.linalg.norm.html)"
      ]
    },
    {
      "cell_type": "code",
      "execution_count": 58,
      "metadata": {
        "id": "5TBg7drB5Zvu"
      },
      "outputs": [],
      "source": [
        "def equalize(pair, bias_axis, word_to_vec_map):\n",
        "    \"\"\" Debias gender specific words by following the equalize method described in the figure above. Arguments: pair -- pair of strings of gender specific words to debias, e.g. (\"actress\", \"actor\") bias_axis -- numpy-array of shape (50,), vector corresponding to the bias axis, e.g. gender word_to_vec_map -- dictionary mapping words to their corresponding vectors Returns e_1 -- word vector corresponding to the first word e_2 -- word vector corresponding to the second word \"\"\"\n",
        "    \n",
        "\n",
        "    # Step 1: Select word vector representation of \"word\". Use word_to_vec_map. (≈ 2 lines)\n",
        "    w1, w2 = pair[0],pair[1]\n",
        "    e_w1, e_w2 = word_to_vec_map[w1],word_to_vec_map[w2]\n",
        "    \n",
        "    # Step 2: Compute the mean of e_w1 and e_w2 (≈ 1 line)\n",
        "    mu = (e_w1+e_w2)/2\n",
        "\n",
        "    # Step 3: Compute the projections of mu over the bias axis and the orthogonal axis (≈ 2 lines)\n",
        "    mu_B = np.dot(mu,bias_axis)/np.linalg.norm(bias_axis)**2*bias_axis\n",
        "    mu_orth = mu-mu_B\n",
        "\n",
        "    # Step 4: Set e1_orth and e2_orth to be equal to mu_orth (≈2 lines)\n",
        "    e_w1B = np.dot(e_w1,bias_axis)/np.linalg.norm(bias_axis)**2*bias_axis\n",
        "    e_w2B = np.dot(e_w2,bias_axis)/np.linalg.norm(bias_axis)**2*bias_axis\n",
        "        \n",
        "    # Step 5: Adjust the Bias part of u1 and u2 using the formulas given in the figure above (≈2 lines)\n",
        "    corrected_e_w1B = np.sqrt(np.abs(1-np.linalg.norm(mu_orth)**2))*(e_w1B-mu_B)/(np.linalg.norm(e_w1-mu_orth-mu_B))\n",
        "    corrected_e_w2B = np.sqrt(np.abs(1-np.linalg.norm(mu_orth)**2))*(e_w2B-mu_B)/(np.linalg.norm(e_w2-mu_orth-mu_B))\n",
        "    \n",
        "    # Step 6: Debias by equalizing u1 and u2 to the sum of their projections (≈2 lines)\n",
        "    e1 = corrected_e_w1B+mu_orth\n",
        "    e2 = corrected_e_w2B+mu_orth\n",
        "    \n",
        "    return e1, e2"
      ]
    },
    {
      "cell_type": "code",
      "execution_count": 59,
      "metadata": {
        "id": "P405J5ZSJWhb",
        "scrolled": true,
        "colab": {
          "base_uri": "https://localhost:8080/"
        },
        "outputId": "205c4f4f-7c28-494a-8f63-f2bdd505d369"
      },
      "outputs": [
        {
          "output_type": "stream",
          "name": "stdout",
          "text": [
            "cosine similarities before equalizing:\n",
            "cosine_similarity(embeddings[\"man\"], gender) =  -0.11711101\n",
            "cosine_similarity(embeddings[\"woman\"], gender) =  0.35666615\n",
            "\n",
            "cosine similarities after equalizing:\n",
            "cosine_similarity(e1, gender) =  -0.70043635\n",
            "cosine_similarity(e2, gender) =  0.70043635\n"
          ]
        }
      ],
      "source": [
        "print(\"cosine similarities before equalizing:\")\n",
        "print(\"cosine_similarity(embeddings[\\\"man\\\"], gender) = \", cosine_similarity(embeddings[\"man\"], g))\n",
        "print(\"cosine_similarity(embeddings[\\\"woman\\\"], gender) = \", cosine_similarity(embeddings[\"woman\"], g))\n",
        "print()\n",
        "e1, e2 = equalize((\"man\", \"woman\"), g, embeddings)\n",
        "print(\"cosine similarities after equalizing:\")\n",
        "print(\"cosine_similarity(e1, gender) = \", cosine_similarity(e1, g))\n",
        "print(\"cosine_similarity(e2, gender) = \", cosine_similarity(e2, g))"
      ]
    },
    {
      "cell_type": "code",
      "source": [
        "cosine_similarity(e1, embeddings[\"man\"])"
      ],
      "metadata": {
        "colab": {
          "base_uri": "https://localhost:8080/"
        },
        "id": "zjGmU-4XsO1E",
        "outputId": "ff799b04-5e00-4a6d-ca1d-bc817a710f41"
      },
      "execution_count": 61,
      "outputs": [
        {
          "output_type": "execute_result",
          "data": {
            "text/plain": [
              "0.79083246"
            ]
          },
          "metadata": {},
          "execution_count": 61
        }
      ]
    },
    {
      "cell_type": "markdown",
      "metadata": {
        "id": "mXi96ToSJWhc"
      },
      "source": [
        "Go ahead and play with the input words in the cell above, to apply equalization to other pairs of words. \n",
        "\n",
        "Hint: Try...\n",
        "\n",
        "These debiasing algorithms are very helpful for reducing bias, but aren't perfect and don't eliminate all traces of bias. For example, one weakness of this implementation was that the bias direction $g$ was defined using only the pair of words _woman_ and _man_. As discussed earlier, if $g$ were defined by computing $g_1 = e_{woman} - e_{man}$; $g_2 = e_{mother} - e_{father}$; $g_3 = e_{girl} - e_{boy}$; and so on and averaging over them, you would obtain a better estimate of the \"gender\" dimension in the 50 dimensional word embedding space. Feel free to play with these types of variants as well! "
      ]
    }
  ],
  "metadata": {
    "coursera": {
      "schema_names": [
        "DLSC5W2-A1"
      ]
    },
    "kernelspec": {
      "display_name": "Python 3",
      "language": "python",
      "name": "python3"
    },
    "language_info": {
      "codemirror_mode": {
        "name": "ipython",
        "version": 3
      },
      "file_extension": ".py",
      "mimetype": "text/x-python",
      "name": "python",
      "nbconvert_exporter": "python",
      "pygments_lexer": "ipython3",
      "version": "3.7.6"
    },
    "colab": {
      "name": "word2vectors_Debiasing_wordvectors.ipynb",
      "provenance": [],
      "collapsed_sections": [],
      "include_colab_link": true
    }
  },
  "nbformat": 4,
  "nbformat_minor": 0
}